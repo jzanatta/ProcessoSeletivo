{
  "nbformat": 4,
  "nbformat_minor": 0,
  "metadata": {
    "colab": {
      "provenance": [],
      "authorship_tag": "ABX9TyOxGaTnmXyOhBS/Vx9lw+Kr",
      "include_colab_link": true
    },
    "kernelspec": {
      "name": "python3",
      "display_name": "Python 3"
    },
    "language_info": {
      "name": "python"
    }
  },
  "cells": [
    {
      "cell_type": "markdown",
      "metadata": {
        "id": "view-in-github",
        "colab_type": "text"
      },
      "source": [
        "<a href=\"https://colab.research.google.com/github/jzanatta/ProcessoSeletivo/blob/main/ProcessoSeletivo.ipynb\" target=\"_parent\"><img src=\"https://colab.research.google.com/assets/colab-badge.svg\" alt=\"Open In Colab\"/></a>"
      ]
    },
    {
      "cell_type": "code",
      "execution_count": 11,
      "metadata": {
        "colab": {
          "base_uri": "https://localhost:8080/"
        },
        "id": "cHOTI2mDEoXC",
        "outputId": "5be8acb6-0212-400c-862f-c64194c488ee"
      },
      "outputs": [
        {
          "output_type": "stream",
          "name": "stdout",
          "text": [
            "Qual o numero que dejesa saber se pertence a sequencia de fibonacci? 34\n",
            "34 Faz parte da sequencia de Fibonacci\n"
          ]
        }
      ],
      "source": [
        "# EX 2 - fibonacci\n",
        "numero = int(input('Qual o numero que dejesa saber se pertence a sequencia de fibonacci? '))\n",
        "a=0\n",
        "b=1\n",
        "c=1\n",
        "\n",
        "while c < numero:\n",
        "  a= b+c\n",
        "  b= c+a\n",
        "  c= a+b\n",
        "\n",
        "if a == numero or b == numero or c == numero:\n",
        "  print(numero, 'Faz parte da sequencia de Fibonacci')\n",
        "else:\n",
        "  print(numero, 'Não faz parte da sequencia de Fibonacci')"
      ]
    },
    {
      "cell_type": "code",
      "source": [
        "# EX 5 - inverter os caracteres de uma String\n",
        "mensagem = str(input('Qual a mensagem que deseja inverter? '))\n",
        "nova_mensagem = \"\"\n",
        "\n",
        "\n",
        "for i in range(len(mensagem)-1, -1, -1):\n",
        "    nova_mensagem += mensagem[i]\n",
        "\n",
        "print(nova_mensagem)"
      ],
      "metadata": {
        "colab": {
          "base_uri": "https://localhost:8080/"
        },
        "id": "O7yim8HcGyXk",
        "outputId": "4de24e9f-8a36-4ca6-f6b2-604b164c7f65"
      },
      "execution_count": 14,
      "outputs": [
        {
          "output_type": "stream",
          "name": "stdout",
          "text": [
            "Qual a mensagem que deseja inverter? estou ansioso pelo seu retorno, tenho muito interesse na vaga\n",
            "agav an esseretni otium ohnet ,onroter ues olep osoisna uotse\n"
          ]
        }
      ]
    }
  ]
}